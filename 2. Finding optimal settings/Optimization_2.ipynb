{
 "cells": [
  {
   "cell_type": "markdown",
   "metadata": {},
   "source": [
    "# Importing Packages"
   ]
  },
  {
   "cell_type": "code",
   "execution_count": null,
   "metadata": {},
   "outputs": [],
   "source": [
    "!git clone https://github.com/rhfo3218/LG_ML_tutorial.git\n",
    "import os\n",
    "os.chdir('/content/LG_ML_tutorial/2. Finding optimal settings')"
   ]
  },
  {
   "cell_type": "code",
   "execution_count": 12,
   "metadata": {},
   "outputs": [],
   "source": [
    "import numpy as np\n",
    "import matplotlib.pyplot as plt\n",
    "import pandas as pd\n",
    "\n",
    "from sklearn.neural_network import MLPRegressor\n",
    "from sklearn.preprocessing import MinMaxScaler"
   ]
  },
  {
   "cell_type": "markdown",
   "metadata": {},
   "source": [
    "# Diamond dataset\n",
    "\n",
    "Data from https://www.adiamor.com/Diamonds/Search\n",
    "\n",
    "2,690 observations\n",
    "\n",
    "+ predictors\n",
    "   + carat.size: numeric\n",
    "   + color: ordinal, 0 ~ 7 (colorless to nearly colorless)\n",
    "   + clarity: ordinal, 0 ~ 6 (internally flawless to slightly included)\n",
    "   + cut: ordinal, 0 ~ 3 (ideal to good)   \n",
    "+ response\n",
    "   + price: diamond price"
   ]
  },
  {
   "cell_type": "markdown",
   "metadata": {},
   "source": [
    "## The optimization problem we have to solve in real life is like below.\n",
    "You would like to purchase a diamond.\n",
    "\n",
    "Your budget is 400 USD.\n",
    "\n",
    "She wants that the color of diamond should be at level of 1.\n",
    "\n",
    "She wants that the clarity of diamond should be at level of 2.\n",
    "\n",
    "**(Question) What size and which cut level of diamond can you purchase?**\n"
   ]
  },
  {
   "cell_type": "code",
   "execution_count": 14,
   "metadata": {},
   "outputs": [],
   "source": [
    "diamond = pd.read_csv('diamond.csv')\n",
    "\n",
    "min_max_scaler = MinMaxScaler()\n",
    "diamond.norm = min_max_scaler.fit_transform(diamond)\n",
    "\n",
    "mins = min_max_scaler.data_min_\n",
    "maxs = min_max_scaler.data_max_"
   ]
  },
  {
   "cell_type": "code",
   "execution_count": 15,
   "metadata": {},
   "outputs": [
    {
     "data": {
      "text/plain": [
       "MLPRegressor(activation='relu', alpha=1e-05, batch_size='auto', beta_1=0.9,\n",
       "             beta_2=0.999, early_stopping=False, epsilon=1e-08,\n",
       "             hidden_layer_sizes=(6, 6), learning_rate='constant',\n",
       "             learning_rate_init=0.001, max_fun=15000, max_iter=200,\n",
       "             momentum=0.9, n_iter_no_change=10, nesterovs_momentum=True,\n",
       "             power_t=0.5, random_state=None, shuffle=True, solver='lbfgs',\n",
       "             tol=0.0001, validation_fraction=0.1, verbose=False,\n",
       "             warm_start=False)"
      ]
     },
     "execution_count": 15,
     "metadata": {},
     "output_type": "execute_result"
    }
   ],
   "source": [
    "# -------------------------------------------------------------------------- #\n",
    "# response estimation using neural network\n",
    "# -------------------------------------------------------------------------- #\n",
    "model = MLPRegressor(solver='lbfgs', alpha=1e-5, \n",
    "        hidden_layer_sizes=(6, 6))\n",
    "\n",
    "X = diamond.norm[:,:-1]\n",
    "Y = diamond.norm[:,-1]\n",
    "\n",
    "model.fit(X,Y)"
   ]
  },
  {
   "cell_type": "code",
   "execution_count": 16,
   "metadata": {},
   "outputs": [],
   "source": [
    "price_hat = model.predict(X)\n",
    "orig_price_hat = price_hat * (maxs[4]-mins[4]) + mins[4]\n",
    "orig_price = np.array(diamond['price'])\n",
    "R2 = 1-np.sum((orig_price-orig_price_hat)**2)/np.sum((orig_price-np.mean(orig_price_hat))**2) # R-squared"
   ]
  },
  {
   "cell_type": "code",
   "execution_count": 17,
   "metadata": {},
   "outputs": [],
   "source": [
    "# -------------------------------------------------------------------------- #\n",
    "# optimization problem example\n",
    "#       1. You want to purchase a diamond.\n",
    "#       2. Your budget is 400 USD.\n",
    "#       3. The color of your diamond should be at level of 1.\n",
    "#       4. The clarity of your diamond should be at level of 2.\n",
    "#       Q. What size and which cut level of diamond can you purchase?\n",
    "# -------------------------------------------------------------------------- #\n",
    "\n",
    "target_norm = (400-mins[4])/(maxs[4]-mins[4])  # 400 USD\n",
    "color_norm = (1-mins[1])/(maxs[1]-mins[1])  # color level is 1 (given)\n",
    "clarity_norm = (2-mins[2])/(maxs[2]-mins[2]) # clarity level is 2 (given)"
   ]
  },
  {
   "cell_type": "code",
   "execution_count": 18,
   "metadata": {},
   "outputs": [],
   "source": [
    "sample_row = diamond.norm[0,:-1]\n",
    "sample_row[1] = color_norm\n",
    "sample_row[2] = clarity_norm"
   ]
  },
  {
   "cell_type": "code",
   "execution_count": 19,
   "metadata": {},
   "outputs": [],
   "source": [
    "# -------------------------------------------------------------------------------------- #\n",
    "# loss function\n",
    "#   input\n",
    "#              model: prediction model\n",
    "#       x.values.all: predictor variable values, some of those are given,\n",
    "#                     those corresponding to idx will change during optimization procedure\n",
    "#             target: we want to get x.opt values such that the response reaches at this value\n",
    "#              x.opt: predictor variable values to be optimized\n",
    "#                idx: indices corresponding to x.opt variables\n",
    "#\n",
    "#   output\n",
    "#               loss: loss function value (we want to minimize this)\n",
    "#\n",
    "# CREATED 12/16/2018\n",
    "# -------------------------------------------------------------------------------------- #\n",
    "\n",
    "def loss_fun(x_opt, model, x_values_all, target, idx ):\n",
    "  x_values_all[:,idx] = x_opt\n",
    "  pred = model.predict( x_values_all )\n",
    "  loss = (pred - target)**2 # squared loss function\n",
    "  return(loss)"
   ]
  },
  {
   "cell_type": "code",
   "execution_count": 20,
   "metadata": {},
   "outputs": [],
   "source": [
    "from scipy import optimize\n",
    "\n",
    "x0 = np.random.uniform(0,1,2).reshape(1, -1)\n",
    "sample_row = sample_row.reshape(1, -1)\n",
    "bounds = optimize.Bounds([0,0],[1,1])\n",
    "res = optimize.minimize(loss_fun,x0,args=(model,sample_row,target_norm,np.array([0,3])),method='L-BFGS-B', bounds=bounds,options={'disp': True})"
   ]
  },
  {
   "cell_type": "code",
   "execution_count": 21,
   "metadata": {},
   "outputs": [
    {
     "name": "stdout",
     "output_type": "stream",
     "text": [
      "[399.99999119]\n",
      "[0.8019231176574926, 2.2830463262270717]\n"
     ]
    }
   ],
   "source": [
    "sample_row[:,0] = res.x[0]\n",
    "sample_row[:,3] = res.x[1]\n",
    "target_hat = model.predict(sample_row)\n",
    "orig_target_hat = target_hat* (maxs[4]-mins[4]) + mins[4]\n",
    "print(orig_target_hat)\n",
    "# ** we can see that the price is 400 at the optimal solution, which means that we correctly found the optimal solution\n",
    "\n",
    "\n",
    "# answer to the question Q\n",
    "opt_carat_size = res.x[0] * (maxs[0]-mins[0]) + mins[0] # carat size in original scale\n",
    "opt_cut = res.x[1] * (maxs[3]-mins[3]) + mins[3] # cut in original scale\n",
    "\n",
    "print([opt_carat_size,opt_cut])"
   ]
  }
 ],
 "metadata": {
  "kernelspec": {
   "display_name": "Python 3.7.6 64-bit ('base': conda)",
   "metadata": {
    "interpreter": {
     "hash": "1b4ca221cf92c6026129a5dc439431a9e82b0d45e5d1077376bd409b1b8350f0"
    }
   },
   "name": "Python 3.7.6 64-bit ('base': conda)"
  },
  "language_info": {
   "codemirror_mode": {
    "name": "ipython",
    "version": 3
   },
   "file_extension": ".py",
   "mimetype": "text/x-python",
   "name": "python",
   "nbconvert_exporter": "python",
   "pygments_lexer": "ipython3",
   "version": "3.7.6-final"
  },
  "orig_nbformat": 2
 },
 "nbformat": 4,
 "nbformat_minor": 2
}
