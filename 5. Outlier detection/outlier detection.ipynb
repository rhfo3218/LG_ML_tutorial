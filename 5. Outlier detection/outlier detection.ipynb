{
 "cells": [
  {
   "cell_type": "markdown",
   "metadata": {
    "collapsed": false
   },
   "source": [
    "## 5.Outlier detection"
   ]
  },
  {
   "cell_type": "code",
   "execution_count": null,
   "metadata": {},
   "outputs": [],
   "source": [
    "!git clone https://github.com/rhfo3218/LG_ML_tutorial.git\n",
    "import os\n",
    "os.chdir('/content/LG_ML_tutorial/5. Outlier detection')"
   ]
  },
  {
   "cell_type": "code",
   "execution_count": 18,
   "metadata": {
    "collapsed": false,
    "pycharm": {
     "name": "#%%\n"
    }
   },
   "outputs": [],
   "source": [
    "import numpy as np\n",
    "import pandas as pd\n",
    "import matplotlib.pyplot as plt\n",
    "from sklearn.datasets import load_iris"
   ]
  },
  {
   "cell_type": "markdown",
   "metadata": {
    "collapsed": false
   },
   "source": [
    "#### (1) boxplot-based outlier detection\n",
    "###### - using iris dataset"
   ]
  },
  {
   "cell_type": "code",
   "execution_count": 19,
   "metadata": {
    "collapsed": false,
    "pycharm": {
     "name": "#%%\n"
    }
   },
   "outputs": [
    {
     "data": {
      "image/png": "[encoded data removed]",
      "text/plain": [
       "<Figure size 432x288 with 1 Axes>"
      ]
     },
     "metadata": {
      "needs_background": "light"
     },
     "output_type": "display_data"
    }
   ],
   "source": [
    "iris = load_iris()\n",
    "ex = iris.data[:,1]\n",
    "boxplot =  plt.boxplot(ex)"
   ]
  },
  {
   "cell_type": "markdown",
   "metadata": {
    "collapsed": false
   },
   "source": [
    "###### - function to denoise a variable"
   ]
  },
  {
   "cell_type": "code",
   "execution_count": 20,
   "metadata": {
    "collapsed": false,
    "pycharm": {
     "name": "#%%\n"
    }
   },
   "outputs": [],
   "source": [
    "def boxplot_whiskers(x):\n",
    "    boxplot = plt.boxplot(x)\n",
    "    boxplot_whiskers = [item.get_ydata() for item in boxplot['whiskers']]\n",
    "    return(boxplot_whiskers)"
   ]
  },
  {
   "cell_type": "code",
   "execution_count": 21,
   "metadata": {
    "collapsed": false,
    "pycharm": {
     "name": "#%%\n"
    }
   },
   "outputs": [],
   "source": [
    "def my_denoising(x):\n",
    "    y = boxplot_whiskers(x)\n",
    "    z = x[(x>=np.min(y))&(x<=np.max(y))]\n",
    "    return(z)"
   ]
  },
  {
   "cell_type": "code",
   "execution_count": 27,
   "metadata": {
    "collapsed": false,
    "pycharm": {
     "name": "#%%\n"
    }
   },
   "outputs": [],
   "source": [
    "def my_outlier_detect(x):\n",
    "    y = boxplot_whiskers(x)\n",
    "    out_idx = np.where((x<np.min(y))|(x>np.max(y)))[0]\n",
    "    out_values = x[out_idx]\n",
    "    boxplot = plt.boxplot(x[-out_idx])\n",
    "    return(pd.DataFrame({'outlier_index': out_idx,'outliers': out_values}))"
   ]
  },
  {
   "cell_type": "code",
   "execution_count": 23,
   "metadata": {
    "collapsed": false,
    "pycharm": {
     "name": "#%%\n"
    }
   },
   "outputs": [
    {
     "name": "stdout",
     "output_type": "stream",
     "text": [
      "   outlier_index  outliers\n",
      "0             15       4.4\n",
      "1             32       4.1\n",
      "2             33       4.2\n",
      "3             60       2.0\n"
     ]
    },
    {
     "data": {
      "image/png": "[encoded data removed]",
      "text/plain": [
       "<Figure size 432x288 with 1 Axes>"
      ]
     },
     "metadata": {
      "needs_background": "light"
     },
     "output_type": "display_data"
    }
   ],
   "source": [
    "print(my_outlier_detect(ex))"
   ]
  },
  {
   "cell_type": "code",
   "execution_count": 28,
   "metadata": {
    "collapsed": false,
    "pycharm": {
     "name": "#%%\n"
    }
   },
   "outputs": [
    {
     "name": "stdout",
     "output_type": "stream",
     "text": [
      "[3.5 3.  3.2 3.1 3.6 3.9 3.4 3.4 2.9 3.1 3.7 3.4 3.  3.  4.  3.9 3.5 3.8\n",
      " 3.8 3.4 3.7 3.6 3.3 3.4 3.  3.4 3.5 3.4 3.2 3.1 3.4 3.1 3.2 3.5 3.6 3.\n",
      " 3.4 3.5 2.3 3.2 3.5 3.8 3.  3.8 3.2 3.7 3.3 3.2 3.2 3.1 2.3 2.8 2.8 3.3\n",
      " 2.4 2.9 2.7 3.  2.2 2.9 2.9 3.1 3.  2.7 2.2 2.5 3.2 2.8 2.5 2.8 2.9 3.\n",
      " 2.8 3.  2.9 2.6 2.4 2.4 2.7 2.7 3.  3.4 3.1 2.3 3.  2.5 2.6 3.  2.6 2.3\n",
      " 2.7 3.  2.9 2.9 2.5 2.8 3.3 2.7 3.  2.9 3.  3.  2.5 2.9 2.5 3.6 3.2 2.7\n",
      " 3.  2.5 2.8 3.2 3.  3.8 2.6 2.2 3.2 2.8 2.8 2.7 3.3 3.2 2.8 3.  2.8 3.\n",
      " 2.8 3.8 2.8 2.8 2.6 3.  3.4 3.1 3.  3.1 3.1 3.1 2.7 3.2 3.3 3.  2.5 3.\n",
      " 3.4 3. ]\n"
     ]
    },
    {
     "data": {
      "image/png": "[encoded data removed]",
      "text/plain": [
       "<Figure size 432x288 with 1 Axes>"
      ]
     },
     "metadata": {
      "needs_background": "light"
     },
     "output_type": "display_data"
    }
   ],
   "source": [
    "print(my_denoising(ex))"
   ]
  },
  {
   "cell_type": "markdown",
   "metadata": {
    "collapsed": false
   },
   "source": [
    "#### (2) mahalanobis distance based outlier detection"
   ]
  },
  {
   "cell_type": "code",
   "execution_count": 29,
   "metadata": {
    "collapsed": false,
    "pycharm": {
     "name": "#%%\n"
    }
   },
   "outputs": [],
   "source": [
    "from scipy.special import chdtri\n",
    "from sklearn.decomposition import PCA"
   ]
  },
  {
   "cell_type": "markdown",
   "metadata": {
    "collapsed": false
   },
   "source": [
    "###### - import mahalanobis function"
   ]
  },
  {
   "cell_type": "code",
   "execution_count": 30,
   "metadata": {
    "collapsed": false,
    "pycharm": {
     "name": "#%%\n"
    }
   },
   "outputs": [],
   "source": [
    "def mahalanobis(x):\n",
    "    iv = np.linalg.inv(np.cov(np.transpose(x)))\n",
    "    u = x\n",
    "    v = np.tile(np.mean(x,axis=0),(len(x),1))\n",
    "    return(np.diag(np.dot(np.dot((u-v),iv),np.transpose(u-v))))"
   ]
  },
  {
   "cell_type": "code",
   "execution_count": 31,
   "metadata": {
    "collapsed": false,
    "pycharm": {
     "name": "#%%\n"
    }
   },
   "outputs": [],
   "source": [
    "mh_dist = mahalanobis(iris.data)\n",
    "mh_out = np.where(mh_dist>chdtri(4,0.025))[0]"
   ]
  },
  {
   "cell_type": "markdown",
   "metadata": {
    "collapsed": false
   },
   "source": [
    "###### - PCA"
   ]
  },
  {
   "cell_type": "code",
   "execution_count": 32,
   "metadata": {
    "collapsed": false,
    "pycharm": {
     "name": "#%%\n"
    }
   },
   "outputs": [],
   "source": [
    "pca = PCA(n_components=2)\n",
    "iris_pca=pca.fit_transform(iris.data)"
   ]
  },
  {
   "cell_type": "code",
   "execution_count": 33,
   "metadata": {
    "collapsed": false,
    "pycharm": {
     "name": "#%%\n"
    }
   },
   "outputs": [
    {
     "data": {
      "text/plain": [
       "<matplotlib.collections.PathCollection at 0x21844ebcd60>"
      ]
     },
     "execution_count": 33,
     "metadata": {},
     "output_type": "execute_result"
    },
    {
     "data": {
      "image/png": "[encoded data removed]",
      "text/plain": [
       "<Figure size 432x288 with 1 Axes>"
      ]
     },
     "metadata": {
      "needs_background": "light"
     },
     "output_type": "display_data"
    }
   ],
   "source": [
    "plt.scatter(x=iris_pca[:,0],y=iris_pca[:,1])\n",
    "plt.scatter(x=iris_pca[mh_out,0],y=iris_pca[mh_out,1],marker='o',color='red')"
   ]
  },
  {
   "cell_type": "markdown",
   "metadata": {
    "collapsed": false
   },
   "source": [
    "#### (3) KNN based outlier detection\n",
    "###### - KNN"
   ]
  },
  {
   "cell_type": "code",
   "execution_count": 37,
   "metadata": {
    "collapsed": false,
    "pycharm": {
     "name": "#%%\n"
    }
   },
   "outputs": [
    {
     "data": {
      "text/plain": [
       "(array([16., 51., 71., 47., 40., 49., 39., 20., 27.,  8., 19., 13.,  9.,\n",
       "        12.,  3.,  9.,  7.,  5.,  7.,  6.,  1.,  8.,  4.,  6.,  3.,  3.,\n",
       "         2.,  0.,  1.,  3.,  1.,  1.,  0.,  1.,  0.,  1.,  2.,  1.,  2.,\n",
       "         0.,  0.,  1.,  0.,  0.,  0.,  0.,  0.,  0.,  0.,  1.]),\n",
       " array([0.02064036, 0.04570969, 0.07077903, 0.09584836, 0.12091769,\n",
       "        0.14598702, 0.17105635, 0.19612568, 0.22119501, 0.24626434,\n",
       "        0.27133367, 0.29640301, 0.32147234, 0.34654167, 0.371611  ,\n",
       "        0.39668033, 0.42174966, 0.44681899, 0.47188832, 0.49695765,\n",
       "        0.52202699, 0.54709632, 0.57216565, 0.59723498, 0.62230431,\n",
       "        0.64737364, 0.67244297, 0.6975123 , 0.72258163, 0.74765097,\n",
       "        0.7727203 , 0.79778963, 0.82285896, 0.84792829, 0.87299762,\n",
       "        0.89806695, 0.92313628, 0.94820561, 0.97327495, 0.99834428,\n",
       "        1.02341361, 1.04848294, 1.07355227, 1.0986216 , 1.12369093,\n",
       "        1.14876026, 1.17382959, 1.19889893, 1.22396826, 1.24903759,\n",
       "        1.27410692]),\n",
       " <BarContainer object of 50 artists>)"
      ]
     },
     "execution_count": 37,
     "metadata": {},
     "output_type": "execute_result"
    },
    {
     "data": {
      "image/png": "[encoded data removed]",
      "text/plain": [
       "<Figure size 432x288 with 1 Axes>"
      ]
     },
     "metadata": {
      "needs_background": "light"
     },
     "output_type": "display_data"
    }
   ],
   "source": [
    "dt = pd.read_csv('C:/Users/Minseok Han/Downloads/data analytics/5. outlier detection/data01.csv')\n",
    "from sklearn.neighbors import KDTree\n",
    "k = 3\n",
    "tree = KDTree(dt)\n",
    "result_knn = tree.query(dt,k)\n",
    "outlier_scores = result_knn[0][:,k-1]\n",
    "plt.hist(outlier_scores,bins=50)"
   ]
  },
  {
   "cell_type": "code",
   "execution_count": 38,
   "metadata": {
    "collapsed": false,
    "pycharm": {
     "name": "#%%\n"
    }
   },
   "outputs": [
    {
     "data": {
      "text/plain": [
       "<matplotlib.collections.PathCollection at 0x21846467fd0>"
      ]
     },
     "execution_count": 38,
     "metadata": {},
     "output_type": "execute_result"
    },
    {
     "data": {
      "image/png": "[encoded data removed]",
      "text/plain": [
       "<Figure size 432x288 with 1 Axes>"
      ]
     },
     "metadata": {
      "needs_background": "light"
     },
     "output_type": "display_data"
    }
   ],
   "source": [
    "out_idx = np.where(outlier_scores>=0.8)[0]\n",
    "plt.scatter(dt.drop(out_idx).iloc[:,0],dt.drop(out_idx).iloc[:,1])\n",
    "plt.scatter(dt.iloc[out_idx,0],dt.iloc[out_idx,1],color='red',marker='x')"
   ]
  },
  {
   "cell_type": "markdown",
   "metadata": {
    "collapsed": false
   },
   "source": [
    "###### - aggregated KNN"
   ]
  },
  {
   "cell_type": "code",
   "execution_count": null,
   "metadata": {
    "collapsed": false,
    "pycharm": {
     "name": "#%%\n"
    }
   },
   "outputs": [],
   "source": [
    "tree = KDTree(dt)\n",
    "result_knn = tree.query(dt,k)\n",
    "outlier_scores = np.sum(result_knn[0],axis=1)\n",
    "plt.hist(outlier_scores,bins=50)"
   ]
  },
  {
   "cell_type": "code",
   "execution_count": null,
   "metadata": {
    "collapsed": false,
    "pycharm": {
     "name": "#%%\n"
    }
   },
   "outputs": [],
   "source": [
    "out_idx = np.where(outlier_scores>=1)[0]\n",
    "plt.scatter(dt.drop(out_idx).iloc[:,0],dt.drop(out_idx).iloc[:,1])\n",
    "plt.scatter(dt.iloc[out_idx,0],dt.iloc[out_idx,1],color='red',marker='x')"
   ]
  },
  {
   "cell_type": "markdown",
   "metadata": {
    "collapsed": false
   },
   "source": [
    "#### (4) Local outlier factor"
   ]
  },
  {
   "cell_type": "code",
   "execution_count": 39,
   "metadata": {
    "collapsed": false,
    "pycharm": {
     "name": "#%%\n"
    }
   },
   "outputs": [],
   "source": [
    "from sklearn.neighbors import LocalOutlierFactor"
   ]
  },
  {
   "cell_type": "code",
   "execution_count": 40,
   "metadata": {
    "collapsed": false,
    "pycharm": {
     "name": "#%%\n"
    }
   },
   "outputs": [],
   "source": [
    "clf = LocalOutlierFactor(n_neighbors=4)\n",
    "clf.fit(iris.data)\n",
    "outlier_scores = -clf.negative_outlier_factor_"
   ]
  },
  {
   "cell_type": "code",
   "execution_count": 41,
   "metadata": {
    "collapsed": false,
    "pycharm": {
     "name": "#%%\n"
    }
   },
   "outputs": [
    {
     "data": {
      "text/plain": [
       "(array([ 1.,  0.,  2., 10., 12., 30., 17., 16.,  6.,  8.,  6.,  6.,  3.,\n",
       "         7.,  3.,  4.,  5.,  0.,  0.,  1.,  2.,  4.,  1.,  0.,  1.,  0.,\n",
       "         1.,  0.,  0.,  0.,  0.,  0.,  1.,  0.,  0.,  0.,  1.,  0.,  0.,\n",
       "         0.,  1.,  0.,  0.,  0.,  0.,  0.,  0.,  0.,  0.,  1.]),\n",
       " array([0.83065469, 0.8621713 , 0.89368791, 0.92520453, 0.95672114,\n",
       "        0.98823776, 1.01975437, 1.05127098, 1.0827876 , 1.11430421,\n",
       "        1.14582082, 1.17733744, 1.20885405, 1.24037067, 1.27188728,\n",
       "        1.30340389, 1.33492051, 1.36643712, 1.39795373, 1.42947035,\n",
       "        1.46098696, 1.49250358, 1.52402019, 1.5555368 , 1.58705342,\n",
       "        1.61857003, 1.65008665, 1.68160326, 1.71311987, 1.74463649,\n",
       "        1.7761531 , 1.80766971, 1.83918633, 1.87070294, 1.90221956,\n",
       "        1.93373617, 1.96525278, 1.9967694 , 2.02828601, 2.05980263,\n",
       "        2.09131924, 2.12283585, 2.15435247, 2.18586908, 2.21738569,\n",
       "        2.24890231, 2.28041892, 2.31193554, 2.34345215, 2.37496876,\n",
       "        2.40648538]),\n",
       " <BarContainer object of 50 artists>)"
      ]
     },
     "execution_count": 41,
     "metadata": {},
     "output_type": "execute_result"
    },
    {
     "data": {
      "image/png": "[encoded data removed]",
      "text/plain": [
       "<Figure size 432x288 with 1 Axes>"
      ]
     },
     "metadata": {
      "needs_background": "light"
     },
     "output_type": "display_data"
    }
   ],
   "source": [
    "plt.hist(outlier_scores,bins=50)"
   ]
  },
  {
   "cell_type": "code",
   "execution_count": 42,
   "metadata": {
    "collapsed": false,
    "pycharm": {
     "name": "#%%\n"
    }
   },
   "outputs": [],
   "source": [
    "out_idx = np.where(outlier_scores>=1.5)[0]"
   ]
  },
  {
   "cell_type": "code",
   "execution_count": 43,
   "metadata": {
    "collapsed": false,
    "pycharm": {
     "name": "#%%\n"
    }
   },
   "outputs": [],
   "source": [
    "pca = PCA(n_components=2)\n",
    "iris_pca=pca.fit_transform(iris.data)"
   ]
  },
  {
   "cell_type": "code",
   "execution_count": 44,
   "metadata": {
    "collapsed": false,
    "pycharm": {
     "name": "#%%\n"
    }
   },
   "outputs": [
    {
     "data": {
      "text/plain": [
       "<matplotlib.collections.PathCollection at 0x218469f6bb0>"
      ]
     },
     "execution_count": 44,
     "metadata": {},
     "output_type": "execute_result"
    },
    {
     "data": {
      "image/png": "[encoded data removed]",
      "text/plain": [
       "<Figure size 432x288 with 1 Axes>"
      ]
     },
     "metadata": {
      "needs_background": "light"
     },
     "output_type": "display_data"
    }
   ],
   "source": [
    "plt.scatter(x=iris_pca[:,0],y=iris_pca[:,1])\n",
    "plt.scatter(x=iris_pca[out_idx,0],y=iris_pca[out_idx,1],marker='o',color='red')"
   ]
  }
 ],
 "metadata": {
  "kernelspec": {
   "display_name": "Python 3",
   "language": "python",
   "name": "python3"
  },
  "language_info": {
   "codemirror_mode": {
    "name": "ipython",
    "version": 2
   },
   "file_extension": ".py",
   "mimetype": "text/x-python",
   "name": "python",
   "nbconvert_exporter": "python",
   "pygments_lexer": "ipython2",
   "version": "2.7.6"
  }
 },
 "nbformat": 4,
 "nbformat_minor": 0
}
