{
 "cells": [
  {
   "cell_type": "code",
   "execution_count": null,
   "metadata": {},
   "outputs": [],
   "source": [
    "!git clone https://github.com/rhfo3218/LG_ML_tutorial.git\n",
    "import os\n",
    "os.chdir('/content/LG_ML_tutorial/4. Imbalance_data_classification')"
   ]
  },
  {
   "cell_type": "code",
   "execution_count": 1,
   "metadata": {},
   "outputs": [],
   "source": [
    "import numpy as np\n",
    "import matplotlib.pyplot as plt\n",
    "import pandas as pd\n",
    "from collections import Counter\n",
    "from sklearn.tree import DecisionTreeClassifier\n",
    "from sklearn.model_selection import StratifiedShuffleSplit\n",
    "from sklearn.metrics import confusion_matrix\n",
    "\n",
    "from utils import SMOTE, RUS, decision_plot"
   ]
  },
  {
   "cell_type": "code",
   "execution_count": 2,
   "metadata": {},
   "outputs": [],
   "source": [
    "bank = pd.read_csv('Personal Loan.csv')\n",
    "input_idx = [1,2,3,5,6,7,8,10,11,12,13]\n",
    "target_idx = 9\n",
    "\n",
    "X = np.array(bank.iloc[:, input_idx])\n",
    "y = np.array(bank.iloc[:, target_idx])\n",
    "\n",
    "X = X[y < 2,:]\n",
    "y = y[y < 2]"
   ]
  },
  {
   "cell_type": "markdown",
   "metadata": {},
   "source": [
    "## Stratified Random Partitioning\n"
   ]
  },
  {
   "cell_type": "code",
   "execution_count": 3,
   "metadata": {},
   "outputs": [],
   "source": [
    "sss = StratifiedShuffleSplit(n_splits=1,train_size=0.7)\n",
    "\n",
    "for train_index, test_index in sss.split(X,y):\n",
    "    X_train, X_test = X[train_index], X[test_index]\n",
    "    y_train, y_test = y[train_index], y[test_index]"
   ]
  },
  {
   "cell_type": "markdown",
   "metadata": {},
   "source": [
    "## model training (original)"
   ]
  },
  {
   "cell_type": "code",
   "execution_count": 4,
   "metadata": {},
   "outputs": [
    {
     "name": "stdout",
     "output_type": "stream",
     "text": [
      "TPR: 0.909, FPR: 0.019, AUC: 0.945\n"
     ]
    }
   ],
   "source": [
    "model = DecisionTreeClassifier()\n",
    "model.fit(X_train,y_train)\n",
    "\n",
    "pred_y = model.predict(X_test)\n",
    "tn, fp, fn, tp = confusion_matrix(y_true=y_test,y_pred=pred_y).ravel()\n",
    "tpr = tp/(tp+fn)\n",
    "fpr = fp/(tn+fp)\n",
    "auc = (1+tpr-fpr)/2\n",
    "\n",
    "print(\"TPR: {:.3f}, FPR: {:.3f}, AUC: {:.3f}\".format(tpr,fpr,auc))"
   ]
  },
  {
   "cell_type": "markdown",
   "metadata": {},
   "source": [
    "## model training (SMOTE)"
   ]
  },
  {
   "cell_type": "code",
   "execution_count": 5,
   "metadata": {},
   "outputs": [
    {
     "name": "stdout",
     "output_type": "stream",
     "text": [
      "TPR: 1.000, FPR: 0.000, AUC: 1.000\n"
     ]
    }
   ],
   "source": [
    "c = Counter(y_train)\n",
    "ir = np.int(np.floor(c[0]/c[1]))\n",
    "\n",
    "smt = SMOTE(X_train,y_train,K=5,dup_size=ir)\n",
    "smt_X = np.vstack((X,smt))\n",
    "smt_y = np.concatenate((y,np.ones(smt.shape[0])))\n",
    "\n",
    "model = DecisionTreeClassifier()\n",
    "model.fit(smt_X,smt_y)\n",
    "\n",
    "pred_y = model.predict(X_test)\n",
    "tn, fp, fn, tp = confusion_matrix(y_true=y_test,y_pred=pred_y).ravel()\n",
    "tpr = tp/(tp+fn)\n",
    "fpr = fp/(tn+fp)\n",
    "auc = (1+tpr-fpr)/2\n",
    "\n",
    "print(\"TPR: {:.3f}, FPR: {:.3f}, AUC: {:.3f}\".format(tpr,fpr,auc))"
   ]
  },
  {
   "cell_type": "markdown",
   "metadata": {},
   "source": [
    "## model training (RUS)"
   ]
  },
  {
   "cell_type": "code",
   "execution_count": 6,
   "metadata": {},
   "outputs": [
    {
     "name": "stdout",
     "output_type": "stream",
     "text": [
      "TPR: 1.000, FPR: 0.019, AUC: 0.990\n"
     ]
    }
   ],
   "source": [
    "rus_X,rus_y = RUS(X,y,p=0.5)\n",
    "\n",
    "model = DecisionTreeClassifier()\n",
    "model.fit(rus_X,rus_y)\n",
    "\n",
    "pred_y = model.predict(X_test)\n",
    "tn, fp, fn, tp = confusion_matrix(y_true=y_test,y_pred=pred_y).ravel()\n",
    "tpr = tp/(tp+fn)\n",
    "fpr = fp/(tn+fp)\n",
    "auc = (1+tpr-fpr)/2\n",
    "\n",
    "print(\"TPR: {:.3f}, FPR: {:.3f}, AUC: {:.3f}\".format(tpr,fpr,auc))"
   ]
  },
  {
   "cell_type": "markdown",
   "metadata": {},
   "source": [
    "## model training (Cost sensitive)"
   ]
  },
  {
   "cell_type": "code",
   "execution_count": 7,
   "metadata": {},
   "outputs": [
    {
     "name": "stdout",
     "output_type": "stream",
     "text": [
      "TPR: 0.883, FPR: 0.006, AUC: 0.939\n"
     ]
    }
   ],
   "source": [
    "model = DecisionTreeClassifier(class_weight=\"balanced\")\n",
    "model.fit(X_train,y_train)\n",
    "\n",
    "pred_y = model.predict(X_test)\n",
    "tn, fp, fn, tp = confusion_matrix(y_true=y_test,y_pred=pred_y).ravel()\n",
    "tpr = tp/(tp+fn)\n",
    "fpr = fp/(tn+fp)\n",
    "auc = (1+tpr-fpr)/2\n",
    "\n",
    "print(\"TPR: {:.3f}, FPR: {:.3f}, AUC: {:.3f}\".format(tpr,fpr,auc))"
   ]
  }
 ],
 "metadata": {
  "kernelspec": {
   "display_name": "Python 3.6.7 64-bit",
   "metadata": {
    "interpreter": {
     "hash": "3e3097c6c5ce7a7c3a19e8af3cbbedad6bd4b76b05ed4ed6e1c1b9103e21364b"
    }
   },
   "name": "Python 3.6.7 64-bit"
  },
  "language_info": {
   "codemirror_mode": {
    "name": "ipython",
    "version": 3
   },
   "file_extension": ".py",
   "mimetype": "text/x-python",
   "name": "python",
   "nbconvert_exporter": "python",
   "pygments_lexer": "ipython3",
   "version": "3.6.7-final"
  },
  "orig_nbformat": 2
 },
 "nbformat": 4,
 "nbformat_minor": 2
}
