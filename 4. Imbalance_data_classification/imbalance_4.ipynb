{
  "nbformat": 4,
  "nbformat_minor": 0,
  "metadata": {
    "language_info": {
      "codemirror_mode": {
        "name": "ipython",
        "version": 3
      },
      "file_extension": ".py",
      "mimetype": "text/x-python",
      "name": "python",
      "nbconvert_exporter": "python",
      "pygments_lexer": "ipython3",
      "version": "3.6.7-final"
    },
    "orig_nbformat": 2,
    "kernelspec": {
      "name": "Python 3.6.7 64-bit",
      "display_name": "Python 3.6.7 64-bit",
      "metadata": {
        "interpreter": {
          "hash": "3e3097c6c5ce7a7c3a19e8af3cbbedad6bd4b76b05ed4ed6e1c1b9103e21364b"
        }
      }
    },
    "colab": {
      "name": "imbalance_4.ipynb",
      "provenance": [],
      "collapsed_sections": []
    }
  },
  "cells": [
    {
      "cell_type": "code",
      "metadata": {
        "id": "frN0K52-17Rp"
      },
      "source": [
        "#### Importing packages\n",
        "import numpy as np\n",
        "import pandas as pd\n",
        "import matplotlib.pyplot as plt\n",
        "from sklearn.model_selection import train_test_split\n",
        "from sklearn.model_selection import StratifiedShuffleSplit\n",
        "from sklearn.tree import DecisionTreeClassifier\n",
        "from sklearn.metrics import confusion_matrix"
      ],
      "execution_count": 1,
      "outputs": []
    },
    {
      "cell_type": "code",
      "metadata": {
        "id": "0u8mnNQK17Rs"
      },
      "source": [
        "bank = pd.read_csv('Personal Loan.csv')\n",
        "input_idx = [1,2,3,5,6,7,8,10,11,12,13]\n",
        "target_idx = 9\n",
        "\n",
        "X = np.array(bank.iloc[:, input_idx])\n",
        "y = np.array(bank.iloc[:, target_idx])\n",
        "\n",
        "X = X[y < 2,:]\n",
        "y = y[y < 2]\n",
        "\n",
        "sss = StratifiedShuffleSplit(n_splits=1,train_size=0.7)\n",
        "\n",
        "for train_index, test_index in sss.split(X,y):\n",
        "    X_train, X_test = X[train_index], X[test_index]\n",
        "    y_train, y_test = y[train_index], y[test_index]"
      ],
      "execution_count": 2,
      "outputs": []
    },
    {
      "cell_type": "code",
      "metadata": {
        "colab": {
          "base_uri": "https://localhost:8080/"
        },
        "id": "1s_Rip4s17Rt",
        "outputId": "3f9fe4b2-b03b-428f-ecd5-a32b509f948b"
      },
      "source": [
        "wgt = np.repeat(1/X_train.shape[0], X_train.shape[0])\n",
        "\n",
        "model = DecisionTreeClassifier(max_depth=30, min_samples_split=20)\n",
        "model.fit(X_train, y_train, sample_weight=wgt)\n",
        "\n",
        "pred_y = model.predict(X_test)\n",
        "\n",
        "x = confusion_matrix(y_true=y_test,y_pred=pred_y)\n",
        "print(\"confusion matrix = \\n\", x)\n",
        "\n",
        "tn, fp, fn, tp = confusion_matrix(y_true=y_test,y_pred=pred_y).ravel()\n",
        "tpr = tp/(tp+fn)\n",
        "fpr = fp/(tn+fp)\n",
        "auc = (1+tpr-fpr)/2\n",
        "\n",
        "print(\"TPR: {:.3f}, FPR: {:.3f}, AUC: {:.3f}\".format(tpr,fpr,auc))"
      ],
      "execution_count": 3,
      "outputs": [
        {
          "output_type": "stream",
          "name": "stdout",
          "text": [
            "confusion matrix = \n",
            " [[666   7]\n",
            " [ 16  61]]\n",
            "TPR: 0.792, FPR: 0.010, AUC: 0.891\n"
          ]
        }
      ]
    },
    {
      "cell_type": "code",
      "metadata": {
        "colab": {
          "base_uri": "https://localhost:8080/"
        },
        "id": "MwLhcEBK17Rt",
        "outputId": "6e930c1c-3ee3-44b8-d1a1-e0c799e18182"
      },
      "source": [
        "cit = np.array([])\n",
        "ait = np.array([])\n",
        "x_bst = np.array([])\n",
        "\n",
        "wgt = np.repeat(1/X_train.shape[0], X_train.shape[0])\n",
        "wgt[y_train==1] = 1/(2*np.sum(y_train==1))\n",
        "wgt[y_train==0] = 1/(2*np.sum(y_train==0))\n",
        "\n",
        "iter = 20\n",
        "\n",
        "for i in range(0,iter):\n",
        "    model = DecisionTreeClassifier(max_depth=1, min_samples_split=20)\n",
        "    model.fit(X_train, y_train, sample_weight=wgt)\n",
        "\n",
        "    ci = model.predict(X_train)\n",
        "    cit = np.append(cit, ci).reshape(i+1,-1)\n",
        "\n",
        "    tp, fn, fp, tn = confusion_matrix(y_train,ci).ravel()\n",
        "    tpr = tp/(tp+fn)\n",
        "    fpr = fp/(tn+fp)\n",
        "    auc = (1+tpr-fpr)/2\n",
        "    x_bst = np.append(x_bst, auc)\n",
        "\n",
        "\n",
        "    ai = 0.5 * np.log(wgt[ci == y_train].sum()/wgt[ci != y_train].sum())\n",
        "    ait = np.append(ait, ai)\n",
        "\n",
        "    loss = np.exp(-ai*np.sign((ci == y_train)-0.5))\n",
        "    wls = wgt * loss\n",
        "    zi_pos = np.sum(wls[y_train==1])\n",
        "    zi_neg = np.sum(wls[y_train==0])\n",
        "\n",
        "    wls[y_train==1] *= 1/zi_pos\n",
        "    wls[y_train==0] *= 1/zi_neg\n",
        "\n",
        "    wgt = wls\n",
        "\n",
        "    print(\"iteration {:3d},TPR: {:.3f}, FPR: {:.3f}, AUC: {:.3f}\".format(i,tpr,fpr,auc))"
      ],
      "execution_count": 4,
      "outputs": [
        {
          "output_type": "stream",
          "name": "stdout",
          "text": [
            "iteration   0,TPR: 0.826, FPR: 0.056, AUC: 0.885\n",
            "iteration   1,TPR: 0.882, FPR: 0.307, AUC: 0.787\n",
            "iteration   2,TPR: 0.456, FPR: 0.190, AUC: 0.633\n",
            "iteration   3,TPR: 0.966, FPR: 0.676, AUC: 0.645\n",
            "iteration   4,TPR: 0.511, FPR: 0.000, AUC: 0.755\n",
            "iteration   5,TPR: 0.511, FPR: 0.000, AUC: 0.755\n",
            "iteration   6,TPR: 0.511, FPR: 0.000, AUC: 0.755\n",
            "iteration   7,TPR: 0.554, FPR: 0.458, AUC: 0.548\n",
            "iteration   8,TPR: 0.511, FPR: 0.000, AUC: 0.755\n",
            "iteration   9,TPR: 0.511, FPR: 0.000, AUC: 0.755\n",
            "iteration  10,TPR: 0.049, FPR: 0.207, AUC: 0.421\n",
            "iteration  11,TPR: 0.808, FPR: 0.246, AUC: 0.781\n",
            "iteration  12,TPR: 0.959, FPR: 0.531, AUC: 0.714\n",
            "iteration  13,TPR: 0.066, FPR: 0.385, AUC: 0.340\n",
            "iteration  14,TPR: 0.966, FPR: 0.676, AUC: 0.645\n",
            "iteration  15,TPR: 0.894, FPR: 0.207, AUC: 0.843\n",
            "iteration  16,TPR: 0.290, FPR: 0.285, AUC: 0.503\n",
            "iteration  17,TPR: 0.943, FPR: 0.894, AUC: 0.524\n",
            "iteration  18,TPR: 0.038, FPR: 0.128, AUC: 0.455\n",
            "iteration  19,TPR: 0.511, FPR: 0.000, AUC: 0.755\n"
          ]
        }
      ]
    },
    {
      "cell_type": "code",
      "metadata": {
        "id": "kn6vXaa12XgE"
      },
      "source": [
        "cit = np.sign(1*(cit == 1)-0.5)"
      ],
      "execution_count": 5,
      "outputs": []
    },
    {
      "cell_type": "code",
      "metadata": {
        "colab": {
          "base_uri": "https://localhost:8080/"
        },
        "id": "nYBltTy017Rv",
        "outputId": "675406c4-57f3-4f85-87f6-3210fcd793fd"
      },
      "source": [
        "pred = np.array([])\n",
        "for i in range(0,iter):\n",
        "    x = 0\n",
        "    for j in range(0,i+1):\n",
        "        x = x + ait[j]*cit[j,:]\n",
        "    # print(x)\n",
        "    pred = np.append(pred, x)\n",
        "\n",
        "pred = np.sign(pred.reshape(iter,-1))\n",
        "\n",
        "print(pred)\n",
        "\n",
        "y_bst = np.array([])\n",
        "y_train_tmp = np.sign((y_train==1)-0.5)\n",
        "\n",
        "for i in range(0,iter):\n",
        "    tp, fn, fp, tn = confusion_matrix(y_train_tmp,pred[i,:]).ravel()\n",
        "    tpr = tp/(tp+fn)\n",
        "    fpr = fp/(tn+fp)\n",
        "    auc = (1+tpr-fpr)/2\n",
        "    y_bst = np.append(y_bst, auc)\n",
        "\n",
        "\n",
        "    print(\"iteration {:3d},TPR: {:.3f}, FPR: {:.3f}, AUC: {:.3f}\".format(i,tpr,fpr,auc))"
      ],
      "execution_count": 6,
      "outputs": [
        {
          "output_type": "stream",
          "name": "stdout",
          "text": [
            "[[ 1. -1. -1. ... -1. -1. -1.]\n",
            " [ 1. -1. -1. ... -1. -1. -1.]\n",
            " [ 1. -1. -1. ... -1. -1. -1.]\n",
            " ...\n",
            " [ 1. -1. -1. ... -1. -1. -1.]\n",
            " [ 1. -1. -1. ... -1. -1. -1.]\n",
            " [ 1. -1. -1. ... -1. -1. -1.]]\n",
            "iteration   0,TPR: 0.826, FPR: 0.056, AUC: 0.885\n",
            "iteration   1,TPR: 0.826, FPR: 0.056, AUC: 0.885\n",
            "iteration   2,TPR: 0.878, FPR: 0.089, AUC: 0.895\n",
            "iteration   3,TPR: 0.896, FPR: 0.073, AUC: 0.912\n",
            "iteration   4,TPR: 0.896, FPR: 0.073, AUC: 0.912\n",
            "iteration   5,TPR: 0.806, FPR: 0.034, AUC: 0.886\n",
            "iteration   6,TPR: 0.806, FPR: 0.034, AUC: 0.886\n",
            "iteration   7,TPR: 0.874, FPR: 0.028, AUC: 0.923\n",
            "iteration   8,TPR: 0.805, FPR: 0.028, AUC: 0.888\n",
            "iteration   9,TPR: 0.805, FPR: 0.028, AUC: 0.888\n",
            "iteration  10,TPR: 0.805, FPR: 0.028, AUC: 0.888\n",
            "iteration  11,TPR: 0.788, FPR: 0.022, AUC: 0.883\n",
            "iteration  12,TPR: 0.852, FPR: 0.028, AUC: 0.912\n",
            "iteration  13,TPR: 0.789, FPR: 0.022, AUC: 0.883\n",
            "iteration  14,TPR: 0.852, FPR: 0.022, AUC: 0.915\n",
            "iteration  15,TPR: 0.829, FPR: 0.022, AUC: 0.903\n",
            "iteration  16,TPR: 0.834, FPR: 0.022, AUC: 0.906\n",
            "iteration  17,TPR: 0.838, FPR: 0.022, AUC: 0.908\n",
            "iteration  18,TPR: 0.831, FPR: 0.022, AUC: 0.904\n",
            "iteration  19,TPR: 0.816, FPR: 0.022, AUC: 0.897\n"
          ]
        }
      ]
    },
    {
      "cell_type": "code",
      "metadata": {
        "colab": {
          "base_uri": "https://localhost:8080/",
          "height": 281
        },
        "id": "dZ_P52Hf17Rw",
        "outputId": "8f50e3f7-943a-4fed-905f-419c3dcfed38"
      },
      "source": [
        "plt.plot(range(0,iter), x_bst)\n",
        "plt.title('Error from each boosting iterations')\n",
        "plt.show()"
      ],
      "execution_count": 7,
      "outputs": [
        {
          "output_type": "display_data",
          "data": {
            "image/png": "[encoded data removed]",
            "text/plain": [
              "<Figure size 432x288 with 1 Axes>"
            ]
          },
          "metadata": {
            "needs_background": "light"
          }
        }
      ]
    },
    {
      "cell_type": "code",
      "metadata": {
        "colab": {
          "base_uri": "https://localhost:8080/",
          "height": 281
        },
        "id": "nCMGW9Vg17Rw",
        "outputId": "49f4197e-0ef9-4c01-871c-0964d074d3eb"
      },
      "source": [
        "plt.plot(range(0,iter), 1 - y_bst)\n",
        "plt.title(\"1 - AUC arising from averaging predictions\")\n",
        "plt.show()"
      ],
      "execution_count": 11,
      "outputs": [
        {
          "output_type": "display_data",
          "data": {
            "image/png": "[encoded data removed]",
            "text/plain": [
              "<Figure size 432x288 with 1 Axes>"
            ]
          },
          "metadata": {
            "needs_background": "light"
          }
        }
      ]
    },
    {
      "cell_type": "code",
      "metadata": {
        "id": "GOJTXxlV17Rx"
      },
      "source": [
        ""
      ],
      "execution_count": null,
      "outputs": []
    }
  ]
}